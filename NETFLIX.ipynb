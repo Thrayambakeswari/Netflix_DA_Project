{
 "cells": [
  {
   "cell_type": "code",
   "execution_count": 1,
   "id": "eea7e469-eba7-4d4c-b972-3481e1cae768",
   "metadata": {},
   "outputs": [
    {
     "name": "stdout",
     "output_type": "stream",
     "text": [
      "Requirement already satisfied: numpy in c:\\users\\thray\\anaconda3\\lib\\site-packages (1.26.4)\n",
      "Requirement already satisfied: pandas in c:\\users\\thray\\anaconda3\\lib\\site-packages (2.2.2)\n",
      "Requirement already satisfied: python-dateutil>=2.8.2 in c:\\users\\thray\\anaconda3\\lib\\site-packages (from pandas) (2.9.0.post0)\n",
      "Requirement already satisfied: pytz>=2020.1 in c:\\users\\thray\\anaconda3\\lib\\site-packages (from pandas) (2024.1)\n",
      "Requirement already satisfied: tzdata>=2022.7 in c:\\users\\thray\\anaconda3\\lib\\site-packages (from pandas) (2023.3)\n",
      "Requirement already satisfied: six>=1.5 in c:\\users\\thray\\anaconda3\\lib\\site-packages (from python-dateutil>=2.8.2->pandas) (1.16.0)\n"
     ]
    }
   ],
   "source": [
    "!pip install numpy pandas"
   ]
  },
  {
   "cell_type": "code",
   "execution_count": 2,
   "id": "02b69c88-7157-46c3-aaaf-179e52d8cb4a",
   "metadata": {},
   "outputs": [
    {
     "name": "stdout",
     "output_type": "stream",
     "text": [
      "Requirement already satisfied: pandas in c:\\users\\thray\\anaconda3\\lib\\site-packages (2.2.2)\n",
      "Requirement already satisfied: numpy>=1.26.0 in c:\\users\\thray\\anaconda3\\lib\\site-packages (from pandas) (1.26.4)\n",
      "Requirement already satisfied: python-dateutil>=2.8.2 in c:\\users\\thray\\anaconda3\\lib\\site-packages (from pandas) (2.9.0.post0)\n",
      "Requirement already satisfied: pytz>=2020.1 in c:\\users\\thray\\anaconda3\\lib\\site-packages (from pandas) (2024.1)\n",
      "Requirement already satisfied: tzdata>=2022.7 in c:\\users\\thray\\anaconda3\\lib\\site-packages (from pandas) (2023.3)\n",
      "Requirement already satisfied: six>=1.5 in c:\\users\\thray\\anaconda3\\lib\\site-packages (from python-dateutil>=2.8.2->pandas) (1.16.0)\n"
     ]
    }
   ],
   "source": [
    "!pip install pandas"
   ]
  },
  {
   "cell_type": "code",
   "execution_count": 3,
   "id": "4946ae8e-da42-4e58-8cb3-3ef91ac9e48f",
   "metadata": {},
   "outputs": [],
   "source": [
    "# import libraries\n",
    "import numpy as np\n",
    "import pandas as pd"
   ]
  },
  {
   "cell_type": "code",
   "execution_count": 4,
   "id": "ba2b451e-24b3-4c27-965d-e5ed9547314b",
   "metadata": {},
   "outputs": [],
   "source": [
    "df = pd.read_csv(\"netflix_titles.csv\")"
   ]
  },
  {
   "cell_type": "code",
   "execution_count": 5,
   "id": "0facd419-4ce7-40ce-8202-5fd69c9c5c0f",
   "metadata": {},
   "outputs": [
    {
     "data": {
      "text/html": [
       "<div>\n",
       "<style scoped>\n",
       "    .dataframe tbody tr th:only-of-type {\n",
       "        vertical-align: middle;\n",
       "    }\n",
       "\n",
       "    .dataframe tbody tr th {\n",
       "        vertical-align: top;\n",
       "    }\n",
       "\n",
       "    .dataframe thead th {\n",
       "        text-align: right;\n",
       "    }\n",
       "</style>\n",
       "<table border=\"1\" class=\"dataframe\">\n",
       "  <thead>\n",
       "    <tr style=\"text-align: right;\">\n",
       "      <th></th>\n",
       "      <th>show_id</th>\n",
       "      <th>type</th>\n",
       "      <th>title</th>\n",
       "      <th>director</th>\n",
       "      <th>cast</th>\n",
       "      <th>country</th>\n",
       "      <th>date_added</th>\n",
       "      <th>release_year</th>\n",
       "      <th>rating</th>\n",
       "      <th>duration</th>\n",
       "      <th>listed_in</th>\n",
       "      <th>description</th>\n",
       "    </tr>\n",
       "  </thead>\n",
       "  <tbody>\n",
       "    <tr>\n",
       "      <th>2153</th>\n",
       "      <td>s2154</td>\n",
       "      <td>TV Show</td>\n",
       "      <td>Sing On! Germany</td>\n",
       "      <td>NaN</td>\n",
       "      <td>Palina Rojinski</td>\n",
       "      <td>Germany</td>\n",
       "      <td>August 7, 2020</td>\n",
       "      <td>2020</td>\n",
       "      <td>TV-PG</td>\n",
       "      <td>1 Season</td>\n",
       "      <td>International TV Shows, Reality TV</td>\n",
       "      <td>In this karaoke competition hosted by Palina R...</td>\n",
       "    </tr>\n",
       "    <tr>\n",
       "      <th>5334</th>\n",
       "      <td>s5335</td>\n",
       "      <td>Movie</td>\n",
       "      <td>Baahubali 2: The Conclusion (Hindi Version)</td>\n",
       "      <td>S.S. Rajamouli</td>\n",
       "      <td>Prabhas, Rana Daggubati, Anushka Shetty, Taman...</td>\n",
       "      <td>India</td>\n",
       "      <td>August 7, 2017</td>\n",
       "      <td>2017</td>\n",
       "      <td>TV-MA</td>\n",
       "      <td>165 min</td>\n",
       "      <td>Action &amp; Adventure, Dramas, International Movies</td>\n",
       "      <td>To avenge his father's death, a young man lead...</td>\n",
       "    </tr>\n",
       "    <tr>\n",
       "      <th>4944</th>\n",
       "      <td>s4945</td>\n",
       "      <td>Movie</td>\n",
       "      <td>Fary Is the New Black</td>\n",
       "      <td>Kader Aoun</td>\n",
       "      <td>Fary</td>\n",
       "      <td>France</td>\n",
       "      <td>April 3, 2018</td>\n",
       "      <td>2018</td>\n",
       "      <td>TV-MA</td>\n",
       "      <td>75 min</td>\n",
       "      <td>Stand-Up Comedy</td>\n",
       "      <td>Armed with sly wit, a fresh outlook and plenty...</td>\n",
       "    </tr>\n",
       "    <tr>\n",
       "      <th>8003</th>\n",
       "      <td>s8004</td>\n",
       "      <td>Movie</td>\n",
       "      <td>Sherlock Holmes</td>\n",
       "      <td>Guy Ritchie</td>\n",
       "      <td>Robert Downey Jr., Jude Law, Rachel McAdams, M...</td>\n",
       "      <td>United States, Germany, United Kingdom, Australia</td>\n",
       "      <td>January 1, 2021</td>\n",
       "      <td>2009</td>\n",
       "      <td>PG-13</td>\n",
       "      <td>128 min</td>\n",
       "      <td>Action &amp; Adventure, Comedies</td>\n",
       "      <td>The game is afoot for an eccentric detective w...</td>\n",
       "    </tr>\n",
       "    <tr>\n",
       "      <th>1248</th>\n",
       "      <td>s1249</td>\n",
       "      <td>Movie</td>\n",
       "      <td>Biggie: I Got a Story to Tell</td>\n",
       "      <td>Emmett Malloy</td>\n",
       "      <td>The Notorious B.I.G., Sean \"P. Diddy\" Combs</td>\n",
       "      <td>United States</td>\n",
       "      <td>March 1, 2021</td>\n",
       "      <td>2021</td>\n",
       "      <td>R</td>\n",
       "      <td>98 min</td>\n",
       "      <td>Documentaries, Music &amp; Musicals</td>\n",
       "      <td>Featuring rare footage and in-depth interviews...</td>\n",
       "    </tr>\n",
       "  </tbody>\n",
       "</table>\n",
       "</div>"
      ],
      "text/plain": [
       "     show_id     type                                        title  \\\n",
       "2153   s2154  TV Show                             Sing On! Germany   \n",
       "5334   s5335    Movie  Baahubali 2: The Conclusion (Hindi Version)   \n",
       "4944   s4945    Movie                        Fary Is the New Black   \n",
       "8003   s8004    Movie                              Sherlock Holmes   \n",
       "1248   s1249    Movie                Biggie: I Got a Story to Tell   \n",
       "\n",
       "            director                                               cast  \\\n",
       "2153             NaN                                    Palina Rojinski   \n",
       "5334  S.S. Rajamouli  Prabhas, Rana Daggubati, Anushka Shetty, Taman...   \n",
       "4944      Kader Aoun                                               Fary   \n",
       "8003     Guy Ritchie  Robert Downey Jr., Jude Law, Rachel McAdams, M...   \n",
       "1248   Emmett Malloy        The Notorious B.I.G., Sean \"P. Diddy\" Combs   \n",
       "\n",
       "                                                country       date_added  \\\n",
       "2153                                            Germany   August 7, 2020   \n",
       "5334                                              India   August 7, 2017   \n",
       "4944                                             France    April 3, 2018   \n",
       "8003  United States, Germany, United Kingdom, Australia  January 1, 2021   \n",
       "1248                                      United States    March 1, 2021   \n",
       "\n",
       "      release_year rating  duration  \\\n",
       "2153          2020  TV-PG  1 Season   \n",
       "5334          2017  TV-MA   165 min   \n",
       "4944          2018  TV-MA    75 min   \n",
       "8003          2009  PG-13   128 min   \n",
       "1248          2021      R    98 min   \n",
       "\n",
       "                                             listed_in  \\\n",
       "2153                International TV Shows, Reality TV   \n",
       "5334  Action & Adventure, Dramas, International Movies   \n",
       "4944                                   Stand-Up Comedy   \n",
       "8003                      Action & Adventure, Comedies   \n",
       "1248                   Documentaries, Music & Musicals   \n",
       "\n",
       "                                            description  \n",
       "2153  In this karaoke competition hosted by Palina R...  \n",
       "5334  To avenge his father's death, a young man lead...  \n",
       "4944  Armed with sly wit, a fresh outlook and plenty...  \n",
       "8003  The game is afoot for an eccentric detective w...  \n",
       "1248  Featuring rare footage and in-depth interviews...  "
      ]
     },
     "execution_count": 5,
     "metadata": {},
     "output_type": "execute_result"
    }
   ],
   "source": [
    "df.sample(5)"
   ]
  },
  {
   "cell_type": "code",
   "execution_count": 6,
   "id": "8eaed0c3-a1f8-4e22-9d00-2921f7aeeaaf",
   "metadata": {},
   "outputs": [],
   "source": [
    "df.drop([\"show_id\", \"description\"], axis = 1, inplace = True)"
   ]
  },
  {
   "cell_type": "code",
   "execution_count": 7,
   "id": "b7b21f5e-899c-4693-9166-8ec6aca58f3a",
   "metadata": {},
   "outputs": [
    {
     "data": {
      "text/html": [
       "<div>\n",
       "<style scoped>\n",
       "    .dataframe tbody tr th:only-of-type {\n",
       "        vertical-align: middle;\n",
       "    }\n",
       "\n",
       "    .dataframe tbody tr th {\n",
       "        vertical-align: top;\n",
       "    }\n",
       "\n",
       "    .dataframe thead th {\n",
       "        text-align: right;\n",
       "    }\n",
       "</style>\n",
       "<table border=\"1\" class=\"dataframe\">\n",
       "  <thead>\n",
       "    <tr style=\"text-align: right;\">\n",
       "      <th></th>\n",
       "      <th>type</th>\n",
       "      <th>title</th>\n",
       "      <th>director</th>\n",
       "      <th>cast</th>\n",
       "      <th>country</th>\n",
       "      <th>date_added</th>\n",
       "      <th>release_year</th>\n",
       "      <th>rating</th>\n",
       "      <th>duration</th>\n",
       "      <th>listed_in</th>\n",
       "    </tr>\n",
       "  </thead>\n",
       "  <tbody>\n",
       "    <tr>\n",
       "      <th>6140</th>\n",
       "      <td>Movie</td>\n",
       "      <td>American Experience: The Island Murder</td>\n",
       "      <td>Mark Zwonitzer</td>\n",
       "      <td>Blair Brown</td>\n",
       "      <td>United States</td>\n",
       "      <td>May 1, 2019</td>\n",
       "      <td>2018</td>\n",
       "      <td>TV-14</td>\n",
       "      <td>53 min</td>\n",
       "      <td>Documentaries</td>\n",
       "    </tr>\n",
       "    <tr>\n",
       "      <th>6087</th>\n",
       "      <td>Movie</td>\n",
       "      <td>Act of Vengeance</td>\n",
       "      <td>Mahsun Kırmızıgül</td>\n",
       "      <td>Haluk Bilginer, Mahsun Kırmızıgül, Mustafa San...</td>\n",
       "      <td>Turkey, United States</td>\n",
       "      <td>September 29, 2018</td>\n",
       "      <td>2010</td>\n",
       "      <td>NR</td>\n",
       "      <td>112 min</td>\n",
       "      <td>Action &amp; Adventure, International Movies</td>\n",
       "    </tr>\n",
       "    <tr>\n",
       "      <th>5285</th>\n",
       "      <td>TV Show</td>\n",
       "      <td>Reign</td>\n",
       "      <td>NaN</td>\n",
       "      <td>Adelaide Kane, Megan Follows, Torrance Coombs,...</td>\n",
       "      <td>United States</td>\n",
       "      <td>September 5, 2017</td>\n",
       "      <td>2017</td>\n",
       "      <td>TV-14</td>\n",
       "      <td>4 Seasons</td>\n",
       "      <td>TV Dramas</td>\n",
       "    </tr>\n",
       "    <tr>\n",
       "      <th>3000</th>\n",
       "      <td>TV Show</td>\n",
       "      <td>Pandemic: How to Prevent an Outbreak</td>\n",
       "      <td>NaN</td>\n",
       "      <td>NaN</td>\n",
       "      <td>United States</td>\n",
       "      <td>January 22, 2020</td>\n",
       "      <td>2020</td>\n",
       "      <td>TV-14</td>\n",
       "      <td>1 Season</td>\n",
       "      <td>Docuseries, Science &amp; Nature TV</td>\n",
       "    </tr>\n",
       "    <tr>\n",
       "      <th>1355</th>\n",
       "      <td>TV Show</td>\n",
       "      <td>Love Daily</td>\n",
       "      <td>NaN</td>\n",
       "      <td>Kamil McFadden, Alexandra Peters, Laura Marano...</td>\n",
       "      <td>United States</td>\n",
       "      <td>February 1, 2021</td>\n",
       "      <td>2018</td>\n",
       "      <td>TV-14</td>\n",
       "      <td>1 Season</td>\n",
       "      <td>Romantic TV Shows, Teen TV Shows</td>\n",
       "    </tr>\n",
       "  </tbody>\n",
       "</table>\n",
       "</div>"
      ],
      "text/plain": [
       "         type                                   title           director  \\\n",
       "6140    Movie  American Experience: The Island Murder     Mark Zwonitzer   \n",
       "6087    Movie                        Act of Vengeance  Mahsun Kırmızıgül   \n",
       "5285  TV Show                                   Reign                NaN   \n",
       "3000  TV Show    Pandemic: How to Prevent an Outbreak                NaN   \n",
       "1355  TV Show                              Love Daily                NaN   \n",
       "\n",
       "                                                   cast  \\\n",
       "6140                                        Blair Brown   \n",
       "6087  Haluk Bilginer, Mahsun Kırmızıgül, Mustafa San...   \n",
       "5285  Adelaide Kane, Megan Follows, Torrance Coombs,...   \n",
       "3000                                                NaN   \n",
       "1355  Kamil McFadden, Alexandra Peters, Laura Marano...   \n",
       "\n",
       "                    country          date_added  release_year rating  \\\n",
       "6140          United States         May 1, 2019          2018  TV-14   \n",
       "6087  Turkey, United States  September 29, 2018          2010     NR   \n",
       "5285          United States   September 5, 2017          2017  TV-14   \n",
       "3000          United States    January 22, 2020          2020  TV-14   \n",
       "1355          United States    February 1, 2021          2018  TV-14   \n",
       "\n",
       "       duration                                 listed_in  \n",
       "6140     53 min                             Documentaries  \n",
       "6087    112 min  Action & Adventure, International Movies  \n",
       "5285  4 Seasons                                 TV Dramas  \n",
       "3000   1 Season           Docuseries, Science & Nature TV  \n",
       "1355   1 Season          Romantic TV Shows, Teen TV Shows  "
      ]
     },
     "execution_count": 7,
     "metadata": {},
     "output_type": "execute_result"
    }
   ],
   "source": [
    "df.sample(5)"
   ]
  },
  {
   "cell_type": "code",
   "execution_count": 8,
   "id": "7902f478-a5f9-4cb5-8024-61f28c478390",
   "metadata": {},
   "outputs": [
    {
     "data": {
      "text/plain": [
       "(8807, 10)"
      ]
     },
     "execution_count": 8,
     "metadata": {},
     "output_type": "execute_result"
    }
   ],
   "source": [
    "df.shape"
   ]
  },
  {
   "cell_type": "code",
   "execution_count": 9,
   "id": "7f91a5d5-041e-4b1e-a98b-d6ae0702c5a1",
   "metadata": {},
   "outputs": [
    {
     "data": {
      "text/plain": [
       "88070"
      ]
     },
     "execution_count": 9,
     "metadata": {},
     "output_type": "execute_result"
    }
   ],
   "source": [
    "df.size"
   ]
  },
  {
   "cell_type": "code",
   "execution_count": 10,
   "id": "894acce1-7355-478a-9dcf-2449f073bb1e",
   "metadata": {},
   "outputs": [
    {
     "data": {
      "text/plain": [
       "RangeIndex(start=0, stop=8807, step=1)"
      ]
     },
     "execution_count": 10,
     "metadata": {},
     "output_type": "execute_result"
    }
   ],
   "source": [
    "df.index"
   ]
  },
  {
   "cell_type": "code",
   "execution_count": 11,
   "id": "cfce69c5-1d8c-4e3f-8988-793ac54fb2fa",
   "metadata": {},
   "outputs": [
    {
     "data": {
      "text/plain": [
       "Index(['type', 'title', 'director', 'cast', 'country', 'date_added',\n",
       "       'release_year', 'rating', 'duration', 'listed_in'],\n",
       "      dtype='object')"
      ]
     },
     "execution_count": 11,
     "metadata": {},
     "output_type": "execute_result"
    }
   ],
   "source": [
    "df.columns"
   ]
  },
  {
   "cell_type": "code",
   "execution_count": 12,
   "id": "f25eb1f6-d33f-4968-a4b0-1dae8872ac2d",
   "metadata": {},
   "outputs": [
    {
     "name": "stdout",
     "output_type": "stream",
     "text": [
      "<class 'pandas.core.frame.DataFrame'>\n",
      "RangeIndex: 8807 entries, 0 to 8806\n",
      "Data columns (total 10 columns):\n",
      " #   Column        Non-Null Count  Dtype \n",
      "---  ------        --------------  ----- \n",
      " 0   type          8807 non-null   object\n",
      " 1   title         8807 non-null   object\n",
      " 2   director      6173 non-null   object\n",
      " 3   cast          7982 non-null   object\n",
      " 4   country       7976 non-null   object\n",
      " 5   date_added    8797 non-null   object\n",
      " 6   release_year  8807 non-null   int64 \n",
      " 7   rating        8803 non-null   object\n",
      " 8   duration      8804 non-null   object\n",
      " 9   listed_in     8807 non-null   object\n",
      "dtypes: int64(1), object(9)\n",
      "memory usage: 688.2+ KB\n"
     ]
    }
   ],
   "source": [
    "df.info()"
   ]
  },
  {
   "cell_type": "code",
   "execution_count": 13,
   "id": "c1de7936-3996-406f-b127-7317425752a0",
   "metadata": {},
   "outputs": [
    {
     "data": {
      "text/plain": [
       "type               0\n",
       "title              0\n",
       "director        2634\n",
       "cast             825\n",
       "country          831\n",
       "date_added        10\n",
       "release_year       0\n",
       "rating             4\n",
       "duration           3\n",
       "listed_in          0\n",
       "dtype: int64"
      ]
     },
     "execution_count": 13,
     "metadata": {},
     "output_type": "execute_result"
    }
   ],
   "source": [
    "df.isna().sum()"
   ]
  },
  {
   "cell_type": "code",
   "execution_count": 14,
   "id": "037d5bf0-28c2-4063-a6e1-be611b9d98f2",
   "metadata": {},
   "outputs": [
    {
     "data": {
      "text/plain": [
       "country\n",
       "United States     2818\n",
       "India              972\n",
       "United Kingdom     419\n",
       "Name: count, dtype: int64"
      ]
     },
     "execution_count": 14,
     "metadata": {},
     "output_type": "execute_result"
    }
   ],
   "source": [
    "df[\"country\"].value_counts().head(3)"
   ]
  },
  {
   "cell_type": "code",
   "execution_count": 15,
   "id": "4521e772-1f27-41e1-b411-f2078a2c9ce9",
   "metadata": {},
   "outputs": [
    {
     "data": {
      "text/plain": [
       "'United States'"
      ]
     },
     "execution_count": 15,
     "metadata": {},
     "output_type": "execute_result"
    }
   ],
   "source": [
    "mode_country = df[\"country\"].mode()[0]\n",
    "mode_country"
   ]
  },
  {
   "cell_type": "code",
   "execution_count": 16,
   "id": "315e3af2-abd3-4366-9397-5fa696f70f06",
   "metadata": {},
   "outputs": [],
   "source": [
    "df[\"country\"] = df[\"country\"].fillna(mode_country)"
   ]
  },
  {
   "cell_type": "code",
   "execution_count": 17,
   "id": "67a7929b-6924-4b96-a959-8afe1917cfa2",
   "metadata": {},
   "outputs": [
    {
     "data": {
      "text/plain": [
       "0"
      ]
     },
     "execution_count": 17,
     "metadata": {},
     "output_type": "execute_result"
    }
   ],
   "source": [
    "df[\"country\"].isna().sum()"
   ]
  },
  {
   "cell_type": "code",
   "execution_count": 18,
   "id": "14db072c-d678-4b85-b517-3f423922ca43",
   "metadata": {},
   "outputs": [
    {
     "data": {
      "text/plain": [
       "date_added\n",
       "January 1, 2020     109\n",
       "November 1, 2019     89\n",
       "March 1, 2018        75\n",
       "Name: count, dtype: int64"
      ]
     },
     "execution_count": 18,
     "metadata": {},
     "output_type": "execute_result"
    }
   ],
   "source": [
    "df[\"date_added\"].value_counts().head(3)"
   ]
  },
  {
   "cell_type": "code",
   "execution_count": 19,
   "id": "9c6f44d0-5efa-4cd2-926c-db3bdd03820a",
   "metadata": {},
   "outputs": [
    {
     "data": {
      "text/plain": [
       "'January 1, 2020'"
      ]
     },
     "execution_count": 19,
     "metadata": {},
     "output_type": "execute_result"
    }
   ],
   "source": [
    "mode_date = df[\"date_added\"].mode()[0]\n",
    "mode_date"
   ]
  },
  {
   "cell_type": "code",
   "execution_count": 20,
   "id": "bca91070-8d1c-41d3-8051-1fffac00298c",
   "metadata": {},
   "outputs": [],
   "source": [
    "df[\"date_added\"] = df[\"date_added\"].fillna(mode_date)"
   ]
  },
  {
   "cell_type": "code",
   "execution_count": 21,
   "id": "d9be1f6a-9465-430e-b2fd-a24bd6575f63",
   "metadata": {},
   "outputs": [
    {
     "data": {
      "text/plain": [
       "0"
      ]
     },
     "execution_count": 21,
     "metadata": {},
     "output_type": "execute_result"
    }
   ],
   "source": [
    "df[\"date_added\"].isna().sum()"
   ]
  },
  {
   "cell_type": "code",
   "execution_count": 22,
   "id": "e7a5e98b-ea06-4d56-b184-99474ea8cf35",
   "metadata": {},
   "outputs": [
    {
     "data": {
      "text/plain": [
       "'TV-MA'"
      ]
     },
     "execution_count": 22,
     "metadata": {},
     "output_type": "execute_result"
    }
   ],
   "source": [
    "mode_rating = df[\"rating\"].mode()[0]\n",
    "mode_rating"
   ]
  },
  {
   "cell_type": "code",
   "execution_count": 23,
   "id": "0a101536-5cba-4677-9065-959c96538a33",
   "metadata": {},
   "outputs": [],
   "source": [
    "df[\"rating\"] = df[\"rating\"].fillna(mode_rating)"
   ]
  },
  {
   "cell_type": "code",
   "execution_count": 24,
   "id": "cb9f956f-7074-40cc-8bba-15a4314e8f7d",
   "metadata": {},
   "outputs": [
    {
     "data": {
      "text/plain": [
       "0"
      ]
     },
     "execution_count": 24,
     "metadata": {},
     "output_type": "execute_result"
    }
   ],
   "source": [
    "df[\"rating\"].isna().sum()"
   ]
  },
  {
   "cell_type": "code",
   "execution_count": 25,
   "id": "932dd06e-df2a-4248-8e91-e0f4d7ef858e",
   "metadata": {},
   "outputs": [
    {
     "data": {
      "text/plain": [
       "'1 Season'"
      ]
     },
     "execution_count": 25,
     "metadata": {},
     "output_type": "execute_result"
    }
   ],
   "source": [
    "mode_duration = df[\"duration\"].mode()[0]\n",
    "mode_duration"
   ]
  },
  {
   "cell_type": "code",
   "execution_count": 26,
   "id": "7bce104d-c385-41e3-8f10-418273e04630",
   "metadata": {},
   "outputs": [],
   "source": [
    "df[\"duration\"] = df[\"duration\"].fillna(mode_duration)"
   ]
  },
  {
   "cell_type": "code",
   "execution_count": 27,
   "id": "f6d3ccd8-e443-4bbf-a0fc-809dc7322cfc",
   "metadata": {},
   "outputs": [
    {
     "data": {
      "text/plain": [
       "0"
      ]
     },
     "execution_count": 27,
     "metadata": {},
     "output_type": "execute_result"
    }
   ],
   "source": [
    "df[\"duration\"].isna().sum()"
   ]
  },
  {
   "cell_type": "code",
   "execution_count": 28,
   "id": "2b64d12d-e04a-4a8c-8537-1e06f2f8dddd",
   "metadata": {},
   "outputs": [],
   "source": [
    "df[\"director\"] = df[\"director\"].fillna(\"Not mentioned\")"
   ]
  },
  {
   "cell_type": "code",
   "execution_count": 29,
   "id": "f37a9168-c5b6-4925-9dc0-3afca875d15c",
   "metadata": {},
   "outputs": [
    {
     "data": {
      "text/plain": [
       "0"
      ]
     },
     "execution_count": 29,
     "metadata": {},
     "output_type": "execute_result"
    }
   ],
   "source": [
    "df[\"director\"].isna().sum()"
   ]
  },
  {
   "cell_type": "code",
   "execution_count": 30,
   "id": "f43e2541-6988-4b47-8312-21df7200b486",
   "metadata": {},
   "outputs": [
    {
     "data": {
      "text/plain": [
       "0"
      ]
     },
     "execution_count": 30,
     "metadata": {},
     "output_type": "execute_result"
    }
   ],
   "source": [
    "df[\"cast\"] = df[\"cast\"].fillna(\"Not mentioned\")\n",
    "df[\"cast\"].isna().sum()"
   ]
  },
  {
   "cell_type": "code",
   "execution_count": 31,
   "id": "850e57ab-e235-4e85-a857-336ce8824fce",
   "metadata": {},
   "outputs": [
    {
     "name": "stdout",
     "output_type": "stream",
     "text": [
      "<class 'pandas.core.frame.DataFrame'>\n",
      "RangeIndex: 8807 entries, 0 to 8806\n",
      "Data columns (total 10 columns):\n",
      " #   Column        Non-Null Count  Dtype \n",
      "---  ------        --------------  ----- \n",
      " 0   type          8807 non-null   object\n",
      " 1   title         8807 non-null   object\n",
      " 2   director      8807 non-null   object\n",
      " 3   cast          8807 non-null   object\n",
      " 4   country       8807 non-null   object\n",
      " 5   date_added    8807 non-null   object\n",
      " 6   release_year  8807 non-null   int64 \n",
      " 7   rating        8807 non-null   object\n",
      " 8   duration      8807 non-null   object\n",
      " 9   listed_in     8807 non-null   object\n",
      "dtypes: int64(1), object(9)\n",
      "memory usage: 688.2+ KB\n"
     ]
    }
   ],
   "source": [
    "df.info()"
   ]
  },
  {
   "cell_type": "markdown",
   "id": "e2f5bbf1-4f7d-449f-9da4-736d5925f527",
   "metadata": {},
   "source": [
    "# # null value eradication of data cleaning is done"
   ]
  },
  {
   "cell_type": "code",
   "execution_count": 33,
   "id": "df6d306b-d32c-4882-96a9-f5313be426ea",
   "metadata": {},
   "outputs": [
    {
     "data": {
      "text/plain": [
       "array(['PG-13', 'TV-MA', 'PG', 'TV-14', 'TV-PG', 'TV-Y', 'TV-Y7', 'R',\n",
       "       'TV-G', 'G', 'NC-17', '74 min', '84 min', '66 min', 'NR',\n",
       "       'TV-Y7-FV', 'UR'], dtype=object)"
      ]
     },
     "execution_count": 33,
     "metadata": {},
     "output_type": "execute_result"
    }
   ],
   "source": [
    "df[\"rating\"].unique()"
   ]
  },
  {
   "cell_type": "code",
   "execution_count": 34,
   "id": "f187e8d6-3677-40f0-8d2b-e2eb5afacca3",
   "metadata": {},
   "outputs": [],
   "source": [
    "df = df[~df[\"rating\"].str.contains(\"min\")]"
   ]
  },
  {
   "cell_type": "code",
   "execution_count": 35,
   "id": "d385423e-b900-4b58-b4c4-6b4004e1a484",
   "metadata": {},
   "outputs": [
    {
     "data": {
      "text/plain": [
       "array(['PG-13', 'TV-MA', 'PG', 'TV-14', 'TV-PG', 'TV-Y', 'TV-Y7', 'R',\n",
       "       'TV-G', 'G', 'NC-17', 'NR', 'TV-Y7-FV', 'UR'], dtype=object)"
      ]
     },
     "execution_count": 35,
     "metadata": {},
     "output_type": "execute_result"
    }
   ],
   "source": [
    "df[\"rating\"].unique()"
   ]
  },
  {
   "cell_type": "code",
   "execution_count": 36,
   "id": "50d2fb03-b837-45d8-a6be-bf170710f79b",
   "metadata": {},
   "outputs": [
    {
     "data": {
      "text/plain": [
       "array(['September 25, 2021', 'September 24, 2021', 'September 23, 2021',\n",
       "       ..., 'December 6, 2018', 'March 9, 2016', 'January 11, 2020'],\n",
       "      dtype=object)"
      ]
     },
     "execution_count": 36,
     "metadata": {},
     "output_type": "execute_result"
    }
   ],
   "source": [
    "df[\"date_added\"].unique()"
   ]
  },
  {
   "cell_type": "code",
   "execution_count": 37,
   "id": "69722023-512e-414e-b881-ed65f5e5b3de",
   "metadata": {},
   "outputs": [],
   "source": [
    "df[\"date_added\"] = df[\"date_added\"].str.replace(\",\",\"\")"
   ]
  },
  {
   "cell_type": "code",
   "execution_count": 38,
   "id": "f7ef2563-0cf8-496f-b7f7-bb8a014957c2",
   "metadata": {},
   "outputs": [
    {
     "data": {
      "text/plain": [
       "array(['September 25 2021', 'September 24 2021', 'September 23 2021', ...,\n",
       "       'December 6 2018', 'March 9 2016', 'January 11 2020'], dtype=object)"
      ]
     },
     "execution_count": 38,
     "metadata": {},
     "output_type": "execute_result"
    }
   ],
   "source": [
    "df[\"date_added\"].unique()"
   ]
  },
  {
   "cell_type": "code",
   "execution_count": 39,
   "id": "86087d7f-e793-4fb2-83cc-6599b02c5805",
   "metadata": {},
   "outputs": [],
   "source": [
    "df[\"date_added\"] = pd.to_datetime(df[\"date_added\"], format = \"mixed\")"
   ]
  },
  {
   "cell_type": "code",
   "execution_count": 40,
   "id": "d25d9beb-efa9-4986-823a-775ffae52751",
   "metadata": {},
   "outputs": [
    {
     "data": {
      "text/plain": [
       "<DatetimeArray>\n",
       "['2021-09-25 00:00:00', '2021-09-24 00:00:00', '2021-09-23 00:00:00',\n",
       " '2021-09-22 00:00:00', '2021-09-21 00:00:00', '2021-09-20 00:00:00',\n",
       " '2021-09-19 00:00:00', '2021-09-17 00:00:00', '2021-09-16 00:00:00',\n",
       " '2021-09-15 00:00:00',\n",
       " ...\n",
       " '2018-09-27 00:00:00', '2017-03-23 00:00:00', '2016-12-25 00:00:00',\n",
       " '2016-11-30 00:00:00', '2017-10-23 00:00:00', '2017-11-04 00:00:00',\n",
       " '2015-08-05 00:00:00', '2018-12-06 00:00:00', '2016-03-09 00:00:00',\n",
       " '2020-01-11 00:00:00']\n",
       "Length: 1714, dtype: datetime64[ns]"
      ]
     },
     "execution_count": 40,
     "metadata": {},
     "output_type": "execute_result"
    }
   ],
   "source": [
    "df[\"date_added\"].unique()"
   ]
  },
  {
   "cell_type": "code",
   "execution_count": 41,
   "id": "65cadfbd-ebf3-4107-bf6c-739441729c90",
   "metadata": {},
   "outputs": [],
   "source": [
    "df[\"year\"] = df[\"date_added\"].dt.year"
   ]
  },
  {
   "cell_type": "code",
   "execution_count": 42,
   "id": "a4a41bbb-7a02-4537-b43d-0aa1af0c950b",
   "metadata": {},
   "outputs": [],
   "source": [
    "df[\"month\"] = df[\"date_added\"].dt.month"
   ]
  },
  {
   "cell_type": "code",
   "execution_count": 43,
   "id": "47b239d0-018b-4595-bb60-fbc0a4aef088",
   "metadata": {},
   "outputs": [],
   "source": [
    "df[\"day\"] = df[\"date_added\"].dt.day"
   ]
  },
  {
   "cell_type": "code",
   "execution_count": 44,
   "id": "021fb599-7de4-4fbe-980b-29239ccd95ef",
   "metadata": {},
   "outputs": [
    {
     "data": {
      "text/html": [
       "<div>\n",
       "<style scoped>\n",
       "    .dataframe tbody tr th:only-of-type {\n",
       "        vertical-align: middle;\n",
       "    }\n",
       "\n",
       "    .dataframe tbody tr th {\n",
       "        vertical-align: top;\n",
       "    }\n",
       "\n",
       "    .dataframe thead th {\n",
       "        text-align: right;\n",
       "    }\n",
       "</style>\n",
       "<table border=\"1\" class=\"dataframe\">\n",
       "  <thead>\n",
       "    <tr style=\"text-align: right;\">\n",
       "      <th></th>\n",
       "      <th>type</th>\n",
       "      <th>title</th>\n",
       "      <th>director</th>\n",
       "      <th>cast</th>\n",
       "      <th>country</th>\n",
       "      <th>date_added</th>\n",
       "      <th>release_year</th>\n",
       "      <th>rating</th>\n",
       "      <th>duration</th>\n",
       "      <th>listed_in</th>\n",
       "      <th>year</th>\n",
       "      <th>month</th>\n",
       "      <th>day</th>\n",
       "    </tr>\n",
       "  </thead>\n",
       "  <tbody>\n",
       "    <tr>\n",
       "      <th>2366</th>\n",
       "      <td>Movie</td>\n",
       "      <td>Alexandria: Again and Forever</td>\n",
       "      <td>Youssef Chahine</td>\n",
       "      <td>Youssef Chahine, Yousra, Hussein Fahmy, Amr Ab...</td>\n",
       "      <td>France, Egypt</td>\n",
       "      <td>2020-06-18</td>\n",
       "      <td>1989</td>\n",
       "      <td>TV-MA</td>\n",
       "      <td>109 min</td>\n",
       "      <td>Classic Movies, Dramas, International Movies</td>\n",
       "      <td>2020</td>\n",
       "      <td>6</td>\n",
       "      <td>18</td>\n",
       "    </tr>\n",
       "    <tr>\n",
       "      <th>7310</th>\n",
       "      <td>Movie</td>\n",
       "      <td>Listen Up! The Lives of Quincy Jones</td>\n",
       "      <td>Ellen Weissbrod</td>\n",
       "      <td>Quincy Jones, Miles Davis, Ray Charles, Sheila...</td>\n",
       "      <td>United States</td>\n",
       "      <td>2019-11-01</td>\n",
       "      <td>1990</td>\n",
       "      <td>TV-14</td>\n",
       "      <td>116 min</td>\n",
       "      <td>Documentaries, Music &amp; Musicals</td>\n",
       "      <td>2019</td>\n",
       "      <td>11</td>\n",
       "      <td>1</td>\n",
       "    </tr>\n",
       "    <tr>\n",
       "      <th>4129</th>\n",
       "      <td>TV Show</td>\n",
       "      <td>Safe</td>\n",
       "      <td>Not mentioned</td>\n",
       "      <td>Michael C. Hall, Amanda Abbington, Marc Warren...</td>\n",
       "      <td>United Kingdom</td>\n",
       "      <td>2019-02-05</td>\n",
       "      <td>2018</td>\n",
       "      <td>TV-MA</td>\n",
       "      <td>1 Season</td>\n",
       "      <td>British TV Shows, Crime TV Shows, Internationa...</td>\n",
       "      <td>2019</td>\n",
       "      <td>2</td>\n",
       "      <td>5</td>\n",
       "    </tr>\n",
       "    <tr>\n",
       "      <th>3512</th>\n",
       "      <td>Movie</td>\n",
       "      <td>Sebastian Maniscalco: What's Wrong with People?</td>\n",
       "      <td>Manny Rodriguez</td>\n",
       "      <td>Sebastian Maniscalco</td>\n",
       "      <td>United States</td>\n",
       "      <td>2019-09-17</td>\n",
       "      <td>2012</td>\n",
       "      <td>TV-MA</td>\n",
       "      <td>76 min</td>\n",
       "      <td>Stand-Up Comedy</td>\n",
       "      <td>2019</td>\n",
       "      <td>9</td>\n",
       "      <td>17</td>\n",
       "    </tr>\n",
       "    <tr>\n",
       "      <th>7939</th>\n",
       "      <td>Movie</td>\n",
       "      <td>Sarvopari Palakkaran</td>\n",
       "      <td>Venugopan</td>\n",
       "      <td>Anoop Menon, Alencier Ley Lopez, Balu Varghese...</td>\n",
       "      <td>India</td>\n",
       "      <td>2018-07-01</td>\n",
       "      <td>2017</td>\n",
       "      <td>TV-14</td>\n",
       "      <td>133 min</td>\n",
       "      <td>Dramas, International Movies</td>\n",
       "      <td>2018</td>\n",
       "      <td>7</td>\n",
       "      <td>1</td>\n",
       "    </tr>\n",
       "  </tbody>\n",
       "</table>\n",
       "</div>"
      ],
      "text/plain": [
       "         type                                            title  \\\n",
       "2366    Movie                    Alexandria: Again and Forever   \n",
       "7310    Movie             Listen Up! The Lives of Quincy Jones   \n",
       "4129  TV Show                                             Safe   \n",
       "3512    Movie  Sebastian Maniscalco: What's Wrong with People?   \n",
       "7939    Movie                             Sarvopari Palakkaran   \n",
       "\n",
       "             director                                               cast  \\\n",
       "2366  Youssef Chahine  Youssef Chahine, Yousra, Hussein Fahmy, Amr Ab...   \n",
       "7310  Ellen Weissbrod  Quincy Jones, Miles Davis, Ray Charles, Sheila...   \n",
       "4129    Not mentioned  Michael C. Hall, Amanda Abbington, Marc Warren...   \n",
       "3512  Manny Rodriguez                               Sebastian Maniscalco   \n",
       "7939        Venugopan  Anoop Menon, Alencier Ley Lopez, Balu Varghese...   \n",
       "\n",
       "             country date_added  release_year rating  duration  \\\n",
       "2366   France, Egypt 2020-06-18          1989  TV-MA   109 min   \n",
       "7310   United States 2019-11-01          1990  TV-14   116 min   \n",
       "4129  United Kingdom 2019-02-05          2018  TV-MA  1 Season   \n",
       "3512   United States 2019-09-17          2012  TV-MA    76 min   \n",
       "7939           India 2018-07-01          2017  TV-14   133 min   \n",
       "\n",
       "                                              listed_in  year  month  day  \n",
       "2366       Classic Movies, Dramas, International Movies  2020      6   18  \n",
       "7310                    Documentaries, Music & Musicals  2019     11    1  \n",
       "4129  British TV Shows, Crime TV Shows, Internationa...  2019      2    5  \n",
       "3512                                    Stand-Up Comedy  2019      9   17  \n",
       "7939                       Dramas, International Movies  2018      7    1  "
      ]
     },
     "execution_count": 44,
     "metadata": {},
     "output_type": "execute_result"
    }
   ],
   "source": [
    "df.sample(5)"
   ]
  },
  {
   "cell_type": "code",
   "execution_count": 45,
   "id": "06563842-2b0d-48e3-8f66-413c77cbd6f8",
   "metadata": {},
   "outputs": [],
   "source": [
    "df[\"genre\"] = df[\"listed_in\"].str.split(\",\").str[0]"
   ]
  },
  {
   "cell_type": "code",
   "execution_count": 46,
   "id": "6217cd12-54d2-4702-926d-ec0c4c4a088a",
   "metadata": {},
   "outputs": [
    {
     "data": {
      "text/plain": [
       "genre\n",
       "Dramas                    1600\n",
       "Comedies                  1210\n",
       "Action & Adventure         859\n",
       "Documentaries              829\n",
       "International TV Shows     774\n",
       "Name: count, dtype: int64"
      ]
     },
     "execution_count": 46,
     "metadata": {},
     "output_type": "execute_result"
    }
   ],
   "source": [
    "df[\"genre\"].value_counts().head()"
   ]
  },
  {
   "cell_type": "code",
   "execution_count": 47,
   "id": "ab3ccff4-83f5-435e-ad97-3e5d592131c0",
   "metadata": {},
   "outputs": [],
   "source": [
    "df = df[df[\"cast\"]!=\"Not Mentioned\"]"
   ]
  },
  {
   "cell_type": "code",
   "execution_count": 48,
   "id": "0bc10053-78ed-4745-97cb-82a910e4dd7b",
   "metadata": {},
   "outputs": [],
   "source": [
    "df[\"lead_actor\"] = df[\"cast\"].str.split(\",\").str[0]"
   ]
  },
  {
   "cell_type": "code",
   "execution_count": 49,
   "id": "577d14ba-7681-44a3-b715-f8bbba361ccd",
   "metadata": {},
   "outputs": [
    {
     "data": {
      "text/plain": [
       "lead_actor\n",
       "Not mentioned       825\n",
       "Shah Rukh Khan       26\n",
       "Akshay Kumar         23\n",
       "Adam Sandler         20\n",
       "Amitabh Bachchan     20\n",
       "Name: count, dtype: int64"
      ]
     },
     "execution_count": 49,
     "metadata": {},
     "output_type": "execute_result"
    }
   ],
   "source": [
    "df[\"lead_actor\"].value_counts().head()"
   ]
  },
  {
   "cell_type": "code",
   "execution_count": 50,
   "id": "c390be1b-a8ab-47ee-8e30-31cd2cedc490",
   "metadata": {},
   "outputs": [
    {
     "data": {
      "text/html": [
       "<div>\n",
       "<style scoped>\n",
       "    .dataframe tbody tr th:only-of-type {\n",
       "        vertical-align: middle;\n",
       "    }\n",
       "\n",
       "    .dataframe tbody tr th {\n",
       "        vertical-align: top;\n",
       "    }\n",
       "\n",
       "    .dataframe thead th {\n",
       "        text-align: right;\n",
       "    }\n",
       "</style>\n",
       "<table border=\"1\" class=\"dataframe\">\n",
       "  <thead>\n",
       "    <tr style=\"text-align: right;\">\n",
       "      <th></th>\n",
       "      <th>type</th>\n",
       "      <th>title</th>\n",
       "      <th>director</th>\n",
       "      <th>cast</th>\n",
       "      <th>country</th>\n",
       "      <th>date_added</th>\n",
       "      <th>release_year</th>\n",
       "      <th>rating</th>\n",
       "      <th>duration</th>\n",
       "      <th>listed_in</th>\n",
       "      <th>year</th>\n",
       "      <th>month</th>\n",
       "      <th>day</th>\n",
       "      <th>genre</th>\n",
       "      <th>lead_actor</th>\n",
       "    </tr>\n",
       "  </thead>\n",
       "  <tbody>\n",
       "    <tr>\n",
       "      <th>4261</th>\n",
       "      <td>TV Show</td>\n",
       "      <td>Way Back into Love</td>\n",
       "      <td>Not mentioned</td>\n",
       "      <td>June Tsai, Ray Chang, Lung Shao-hua, Yi-Wen Ye...</td>\n",
       "      <td>Taiwan</td>\n",
       "      <td>2018-12-24</td>\n",
       "      <td>2011</td>\n",
       "      <td>TV-14</td>\n",
       "      <td>1 Season</td>\n",
       "      <td>International TV Shows, Romantic TV Shows, TV ...</td>\n",
       "      <td>2018</td>\n",
       "      <td>12</td>\n",
       "      <td>24</td>\n",
       "      <td>International TV Shows</td>\n",
       "      <td>June Tsai</td>\n",
       "    </tr>\n",
       "    <tr>\n",
       "      <th>3457</th>\n",
       "      <td>TV Show</td>\n",
       "      <td>Seis Manos</td>\n",
       "      <td>Not mentioned</td>\n",
       "      <td>Aislinn Derbez, Mike Colter, Jonny Cruz, Angél...</td>\n",
       "      <td>United States</td>\n",
       "      <td>2019-10-03</td>\n",
       "      <td>2019</td>\n",
       "      <td>TV-MA</td>\n",
       "      <td>1 Season</td>\n",
       "      <td>Anime Series, Crime TV Shows</td>\n",
       "      <td>2019</td>\n",
       "      <td>10</td>\n",
       "      <td>3</td>\n",
       "      <td>Anime Series</td>\n",
       "      <td>Aislinn Derbez</td>\n",
       "    </tr>\n",
       "    <tr>\n",
       "      <th>7388</th>\n",
       "      <td>Movie</td>\n",
       "      <td>Mala Kahich Problem Nahi</td>\n",
       "      <td>Sameer Vidwans</td>\n",
       "      <td>Gashmeer Mahajani, Spruha Joshi, Nirmiti Sawan...</td>\n",
       "      <td>India</td>\n",
       "      <td>2018-11-15</td>\n",
       "      <td>2017</td>\n",
       "      <td>TV-PG</td>\n",
       "      <td>132 min</td>\n",
       "      <td>Dramas, International Movies</td>\n",
       "      <td>2018</td>\n",
       "      <td>11</td>\n",
       "      <td>15</td>\n",
       "      <td>Dramas</td>\n",
       "      <td>Gashmeer Mahajani</td>\n",
       "    </tr>\n",
       "    <tr>\n",
       "      <th>4534</th>\n",
       "      <td>Movie</td>\n",
       "      <td>Super Monsters Save Halloween</td>\n",
       "      <td>Not mentioned</td>\n",
       "      <td>Elyse Maloway, Vincent Tong, Erin Matthews, An...</td>\n",
       "      <td>United States</td>\n",
       "      <td>2018-10-05</td>\n",
       "      <td>2018</td>\n",
       "      <td>TV-Y</td>\n",
       "      <td>25 min</td>\n",
       "      <td>Children &amp; Family Movies</td>\n",
       "      <td>2018</td>\n",
       "      <td>10</td>\n",
       "      <td>5</td>\n",
       "      <td>Children &amp; Family Movies</td>\n",
       "      <td>Elyse Maloway</td>\n",
       "    </tr>\n",
       "    <tr>\n",
       "      <th>1870</th>\n",
       "      <td>Movie</td>\n",
       "      <td>My Step Dad: The Hippie</td>\n",
       "      <td>Meltem Bozoflu</td>\n",
       "      <td>Onur Buldu, Mahir İpek, Derya Karadaş, Onur At...</td>\n",
       "      <td>Turkey, South Korea</td>\n",
       "      <td>2020-10-09</td>\n",
       "      <td>2018</td>\n",
       "      <td>TV-MA</td>\n",
       "      <td>100 min</td>\n",
       "      <td>Comedies, International Movies</td>\n",
       "      <td>2020</td>\n",
       "      <td>10</td>\n",
       "      <td>9</td>\n",
       "      <td>Comedies</td>\n",
       "      <td>Onur Buldu</td>\n",
       "    </tr>\n",
       "  </tbody>\n",
       "</table>\n",
       "</div>"
      ],
      "text/plain": [
       "         type                          title        director  \\\n",
       "4261  TV Show             Way Back into Love   Not mentioned   \n",
       "3457  TV Show                     Seis Manos   Not mentioned   \n",
       "7388    Movie       Mala Kahich Problem Nahi  Sameer Vidwans   \n",
       "4534    Movie  Super Monsters Save Halloween   Not mentioned   \n",
       "1870    Movie        My Step Dad: The Hippie  Meltem Bozoflu   \n",
       "\n",
       "                                                   cast              country  \\\n",
       "4261  June Tsai, Ray Chang, Lung Shao-hua, Yi-Wen Ye...               Taiwan   \n",
       "3457  Aislinn Derbez, Mike Colter, Jonny Cruz, Angél...        United States   \n",
       "7388  Gashmeer Mahajani, Spruha Joshi, Nirmiti Sawan...                India   \n",
       "4534  Elyse Maloway, Vincent Tong, Erin Matthews, An...        United States   \n",
       "1870  Onur Buldu, Mahir İpek, Derya Karadaş, Onur At...  Turkey, South Korea   \n",
       "\n",
       "     date_added  release_year rating  duration  \\\n",
       "4261 2018-12-24          2011  TV-14  1 Season   \n",
       "3457 2019-10-03          2019  TV-MA  1 Season   \n",
       "7388 2018-11-15          2017  TV-PG   132 min   \n",
       "4534 2018-10-05          2018   TV-Y    25 min   \n",
       "1870 2020-10-09          2018  TV-MA   100 min   \n",
       "\n",
       "                                              listed_in  year  month  day  \\\n",
       "4261  International TV Shows, Romantic TV Shows, TV ...  2018     12   24   \n",
       "3457                       Anime Series, Crime TV Shows  2019     10    3   \n",
       "7388                       Dramas, International Movies  2018     11   15   \n",
       "4534                           Children & Family Movies  2018     10    5   \n",
       "1870                     Comedies, International Movies  2020     10    9   \n",
       "\n",
       "                         genre         lead_actor  \n",
       "4261    International TV Shows          June Tsai  \n",
       "3457              Anime Series     Aislinn Derbez  \n",
       "7388                    Dramas  Gashmeer Mahajani  \n",
       "4534  Children & Family Movies      Elyse Maloway  \n",
       "1870                  Comedies         Onur Buldu  "
      ]
     },
     "execution_count": 50,
     "metadata": {},
     "output_type": "execute_result"
    }
   ],
   "source": [
    "df.sample(5)"
   ]
  },
  {
   "cell_type": "code",
   "execution_count": 51,
   "id": "a56b4722-fed9-4371-9a02-ca61212a74ca",
   "metadata": {},
   "outputs": [],
   "source": [
    "df.drop([\"cast\", \"date_added\", \"listed_in\"], axis = 1, inplace = True)"
   ]
  },
  {
   "cell_type": "code",
   "execution_count": 52,
   "id": "66fdf8ac-9bfd-4abe-a3fd-4f15e2328941",
   "metadata": {},
   "outputs": [
    {
     "data": {
      "text/html": [
       "<div>\n",
       "<style scoped>\n",
       "    .dataframe tbody tr th:only-of-type {\n",
       "        vertical-align: middle;\n",
       "    }\n",
       "\n",
       "    .dataframe tbody tr th {\n",
       "        vertical-align: top;\n",
       "    }\n",
       "\n",
       "    .dataframe thead th {\n",
       "        text-align: right;\n",
       "    }\n",
       "</style>\n",
       "<table border=\"1\" class=\"dataframe\">\n",
       "  <thead>\n",
       "    <tr style=\"text-align: right;\">\n",
       "      <th></th>\n",
       "      <th>type</th>\n",
       "      <th>title</th>\n",
       "      <th>director</th>\n",
       "      <th>country</th>\n",
       "      <th>release_year</th>\n",
       "      <th>rating</th>\n",
       "      <th>duration</th>\n",
       "      <th>year</th>\n",
       "      <th>month</th>\n",
       "      <th>day</th>\n",
       "      <th>genre</th>\n",
       "      <th>lead_actor</th>\n",
       "    </tr>\n",
       "  </thead>\n",
       "  <tbody>\n",
       "    <tr>\n",
       "      <th>1920</th>\n",
       "      <td>Movie</td>\n",
       "      <td>The Book of Sun</td>\n",
       "      <td>Faris Godus</td>\n",
       "      <td>Saudi Arabia</td>\n",
       "      <td>2020</td>\n",
       "      <td>TV-14</td>\n",
       "      <td>120 min</td>\n",
       "      <td>2020</td>\n",
       "      <td>10</td>\n",
       "      <td>1</td>\n",
       "      <td>Comedies</td>\n",
       "      <td>Baraa Alem</td>\n",
       "    </tr>\n",
       "    <tr>\n",
       "      <th>3966</th>\n",
       "      <td>Movie</td>\n",
       "      <td>The Highwaymen</td>\n",
       "      <td>John Lee Hancock</td>\n",
       "      <td>United States</td>\n",
       "      <td>2019</td>\n",
       "      <td>R</td>\n",
       "      <td>132 min</td>\n",
       "      <td>2019</td>\n",
       "      <td>3</td>\n",
       "      <td>29</td>\n",
       "      <td>Dramas</td>\n",
       "      <td>Kevin Costner</td>\n",
       "    </tr>\n",
       "    <tr>\n",
       "      <th>3432</th>\n",
       "      <td>Movie</td>\n",
       "      <td>The Forest of Love</td>\n",
       "      <td>Sion Sono</td>\n",
       "      <td>Japan</td>\n",
       "      <td>2019</td>\n",
       "      <td>TV-MA</td>\n",
       "      <td>151 min</td>\n",
       "      <td>2019</td>\n",
       "      <td>10</td>\n",
       "      <td>11</td>\n",
       "      <td>Dramas</td>\n",
       "      <td>Kippei Shiina</td>\n",
       "    </tr>\n",
       "    <tr>\n",
       "      <th>4520</th>\n",
       "      <td>TV Show</td>\n",
       "      <td>Ordinary Heroes</td>\n",
       "      <td>Not mentioned</td>\n",
       "      <td>United States</td>\n",
       "      <td>2018</td>\n",
       "      <td>TV-MA</td>\n",
       "      <td>1 Season</td>\n",
       "      <td>2018</td>\n",
       "      <td>10</td>\n",
       "      <td>11</td>\n",
       "      <td>Crime TV Shows</td>\n",
       "      <td>Giorgio Tirabassi</td>\n",
       "    </tr>\n",
       "    <tr>\n",
       "      <th>1900</th>\n",
       "      <td>Movie</td>\n",
       "      <td>Vampires vs. the Bronx</td>\n",
       "      <td>Oz Rodriguez</td>\n",
       "      <td>United States</td>\n",
       "      <td>2020</td>\n",
       "      <td>PG-13</td>\n",
       "      <td>86 min</td>\n",
       "      <td>2020</td>\n",
       "      <td>10</td>\n",
       "      <td>2</td>\n",
       "      <td>Comedies</td>\n",
       "      <td>Jaden Michael</td>\n",
       "    </tr>\n",
       "  </tbody>\n",
       "</table>\n",
       "</div>"
      ],
      "text/plain": [
       "         type                   title          director        country  \\\n",
       "1920    Movie         The Book of Sun       Faris Godus   Saudi Arabia   \n",
       "3966    Movie          The Highwaymen  John Lee Hancock  United States   \n",
       "3432    Movie      The Forest of Love         Sion Sono          Japan   \n",
       "4520  TV Show         Ordinary Heroes     Not mentioned  United States   \n",
       "1900    Movie  Vampires vs. the Bronx      Oz Rodriguez  United States   \n",
       "\n",
       "      release_year rating  duration  year  month  day           genre  \\\n",
       "1920          2020  TV-14   120 min  2020     10    1        Comedies   \n",
       "3966          2019      R   132 min  2019      3   29          Dramas   \n",
       "3432          2019  TV-MA   151 min  2019     10   11          Dramas   \n",
       "4520          2018  TV-MA  1 Season  2018     10   11  Crime TV Shows   \n",
       "1900          2020  PG-13    86 min  2020     10    2        Comedies   \n",
       "\n",
       "             lead_actor  \n",
       "1920         Baraa Alem  \n",
       "3966      Kevin Costner  \n",
       "3432      Kippei Shiina  \n",
       "4520  Giorgio Tirabassi  \n",
       "1900      Jaden Michael  "
      ]
     },
     "execution_count": 52,
     "metadata": {},
     "output_type": "execute_result"
    }
   ],
   "source": [
    "df.sample(5)"
   ]
  },
  {
   "cell_type": "code",
   "execution_count": 53,
   "id": "b325eef1-b030-4011-a46e-ee4dac02dd9c",
   "metadata": {},
   "outputs": [],
   "source": [
    "df.to_csv(\"cleaned_data.csv\")"
   ]
  },
  {
   "cell_type": "code",
   "execution_count": 54,
   "id": "df79dfe5-b709-4f8d-9052-0856ef2a764b",
   "metadata": {},
   "outputs": [
    {
     "name": "stdout",
     "output_type": "stream",
     "text": [
      "<class 'pandas.core.frame.DataFrame'>\n",
      "Index: 8804 entries, 0 to 8806\n",
      "Data columns (total 12 columns):\n",
      " #   Column        Non-Null Count  Dtype \n",
      "---  ------        --------------  ----- \n",
      " 0   type          8804 non-null   object\n",
      " 1   title         8804 non-null   object\n",
      " 2   director      8804 non-null   object\n",
      " 3   country       8804 non-null   object\n",
      " 4   release_year  8804 non-null   int64 \n",
      " 5   rating        8804 non-null   object\n",
      " 6   duration      8804 non-null   object\n",
      " 7   year          8804 non-null   int32 \n",
      " 8   month         8804 non-null   int32 \n",
      " 9   day           8804 non-null   int32 \n",
      " 10  genre         8804 non-null   object\n",
      " 11  lead_actor    8804 non-null   object\n",
      "dtypes: int32(3), int64(1), object(8)\n",
      "memory usage: 791.0+ KB\n"
     ]
    }
   ],
   "source": [
    "df.info()"
   ]
  },
  {
   "cell_type": "code",
   "execution_count": 55,
   "id": "53302f4a-fff0-41aa-8e39-dddb3230dd59",
   "metadata": {},
   "outputs": [],
   "source": [
    "missing_data = df.isnull().sum()"
   ]
  },
  {
   "cell_type": "code",
   "execution_count": 56,
   "id": "030759d7-9a19-4b21-898a-6c22c3a4f1d7",
   "metadata": {},
   "outputs": [
    {
     "data": {
      "text/plain": [
       "type            0\n",
       "title           0\n",
       "director        0\n",
       "country         0\n",
       "release_year    0\n",
       "rating          0\n",
       "duration        0\n",
       "year            0\n",
       "month           0\n",
       "day             0\n",
       "genre           0\n",
       "lead_actor      0\n",
       "dtype: int64"
      ]
     },
     "execution_count": 56,
     "metadata": {},
     "output_type": "execute_result"
    }
   ],
   "source": [
    "missing_data"
   ]
  },
  {
   "cell_type": "code",
   "execution_count": null,
   "id": "a1806df7-3b6a-411b-909e-f37e82a10c13",
   "metadata": {},
   "outputs": [],
   "source": []
  },
  {
   "cell_type": "code",
   "execution_count": null,
   "id": "9ac87814-c263-41df-89d6-3dc5ef69f926",
   "metadata": {},
   "outputs": [],
   "source": []
  },
  {
   "cell_type": "code",
   "execution_count": null,
   "id": "6ac0a78e-0361-4e4d-a73d-e050b0004bfd",
   "metadata": {},
   "outputs": [],
   "source": []
  },
  {
   "cell_type": "code",
   "execution_count": null,
   "id": "e03038cd-a050-4813-8e14-fb14658f8fee",
   "metadata": {},
   "outputs": [],
   "source": []
  },
  {
   "cell_type": "code",
   "execution_count": null,
   "id": "6516d862-1787-4674-82a0-39376df56196",
   "metadata": {},
   "outputs": [],
   "source": []
  }
 ],
 "metadata": {
  "kernelspec": {
   "display_name": "Python 3 (ipykernel)",
   "language": "python",
   "name": "python3"
  },
  "language_info": {
   "codemirror_mode": {
    "name": "ipython",
    "version": 3
   },
   "file_extension": ".py",
   "mimetype": "text/x-python",
   "name": "python",
   "nbconvert_exporter": "python",
   "pygments_lexer": "ipython3",
   "version": "3.12.7"
  }
 },
 "nbformat": 4,
 "nbformat_minor": 5
}
